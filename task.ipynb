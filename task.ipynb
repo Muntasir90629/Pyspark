{
 "cells": [
  {
   "cell_type": "code",
   "execution_count": 1,
   "metadata": {},
   "outputs": [],
   "source": [
    "from pyspark.sql import SparkSession , Row\n",
    "from pyspark.sql import functions as F\n",
    "from pyspark.ml import feature as MF\n",
    "\n",
    "\n",
    "spark = SparkSession.builder \\\n",
    "    .appName(\"SparkReadOperations\") \\\n",
    "    .config(\"spark.executor.cores\", \"12\") \\\n",
    "    .config(\"spark.executor.memory\", \"4g\") \\\n",
    "    .config(\"spark.driver.memory\", \"2g\") \\\n",
    "    .config(\"spark.sql.shuffle.partitions\", \"12\") \\\n",
    "    .getOrCreate()\n",
    "\n",
    "spark.sparkContext.setLogLevel(\"WARN\")\n"
   ]
  },
  {
   "cell_type": "code",
   "execution_count": 12,
   "metadata": {},
   "outputs": [],
   "source": [
    "df=spark.read.csv(r'C:\\Users\\MdMuntasirulHoque\\Downloads\\Code (1)\\Code\\class_5_Spark_ETL_Extension_Class\\class_4\\data\\spaceship-titanic\\train.csv', header=True, inferSchema=True)"
   ]
  },
  {
   "cell_type": "code",
   "execution_count": 13,
   "metadata": {},
   "outputs": [
    {
     "name": "stdout",
     "output_type": "stream",
     "text": [
      "+-----------+----------+---------+-----+-----------+----+-----+-----------+---------+------------+-----+------+---------------+-----------+\n",
      "|PassengerId|HomePlanet|CryoSleep|Cabin|Destination| Age|  VIP|RoomService|FoodCourt|ShoppingMall|  Spa|VRDeck|           Name|Transported|\n",
      "+-----------+----------+---------+-----+-----------+----+-----+-----------+---------+------------+-----+------+---------------+-----------+\n",
      "|    0001_01|    Europa|    false|B/0/P|TRAPPIST-1e|39.0|false|        0.0|      0.0|         0.0|  0.0|   0.0|Maham Ofracculy|      false|\n",
      "|    0002_01|     Earth|    false|F/0/S|TRAPPIST-1e|24.0|false|      109.0|      9.0|        25.0|549.0|  44.0|   Juanna Vines|       true|\n",
      "+-----------+----------+---------+-----+-----------+----+-----+-----------+---------+------------+-----+------+---------------+-----------+\n",
      "only showing top 2 rows\n",
      "\n"
     ]
    }
   ],
   "source": [
    "df.show(2)"
   ]
  },
  {
   "cell_type": "code",
   "execution_count": 14,
   "metadata": {},
   "outputs": [
    {
     "name": "stdout",
     "output_type": "stream",
     "text": [
      "root\n",
      " |-- PassengerId: string (nullable = true)\n",
      " |-- HomePlanet: string (nullable = true)\n",
      " |-- CryoSleep: boolean (nullable = true)\n",
      " |-- Cabin: string (nullable = true)\n",
      " |-- Destination: string (nullable = true)\n",
      " |-- Age: double (nullable = true)\n",
      " |-- VIP: boolean (nullable = true)\n",
      " |-- RoomService: double (nullable = true)\n",
      " |-- FoodCourt: double (nullable = true)\n",
      " |-- ShoppingMall: double (nullable = true)\n",
      " |-- Spa: double (nullable = true)\n",
      " |-- VRDeck: double (nullable = true)\n",
      " |-- Name: string (nullable = true)\n",
      " |-- Transported: boolean (nullable = true)\n",
      "\n"
     ]
    }
   ],
   "source": [
    "df.printSchema()"
   ]
  },
  {
   "cell_type": "code",
   "execution_count": 15,
   "metadata": {},
   "outputs": [],
   "source": [
    "df=df.withColumn(\n",
    "    \"Deck\",\n",
    "    F.split(\"Cabin\",\"/\")[0]\n",
    ").withColumn(\n",
    "    \"Cabin_num\",\n",
    "    F.split(\"Cabin\",\"/\")[1]\n",
    ").withColumn(\n",
    "    \"Side\",\n",
    "    F.split(\"Cabin\",\"/\")[2]\n",
    ").drop(\n",
    "\n",
    "    \"Cabin\"\n",
    ").withColumn(   \n",
    "    \n",
    "     \"CryoSleep\",\n",
    "    F.col(\"CryoSleep\").cast(\"int\")\n",
    ").withColumn(\n",
    "    \"VIP\",\n",
    "    F.col(\"VIP\").cast(\"int\")\n",
    ")"
   ]
  },
  {
   "cell_type": "code",
   "execution_count": 16,
   "metadata": {},
   "outputs": [
    {
     "name": "stdout",
     "output_type": "stream",
     "text": [
      "+----------+-----+\n",
      "|null_count|count|\n",
      "+----------+-----+\n",
      "|         0| 6606|\n",
      "|         1| 1709|\n",
      "|         2|  167|\n",
      "|         3|  170|\n",
      "|         4|   36|\n",
      "|         5|    5|\n",
      "+----------+-----+\n",
      "\n"
     ]
    }
   ],
   "source": [
    "df.withColumn(\n",
    "    \"null_count\",\n",
    "    sum([F.when(F.col(c).isNull(), 1).otherwise(0) for c in df.columns])\n",
    ").groupBy(\n",
    "    \"null_count\"\n",
    ").count().sort(\"null_count\").show()"
   ]
  },
  {
   "cell_type": "code",
   "execution_count": 20,
   "metadata": {},
   "outputs": [
    {
     "name": "stdout",
     "output_type": "stream",
     "text": [
      "Shape: (8693, 16)\n"
     ]
    }
   ],
   "source": [
    "def get_shape(df):\n",
    "    return (df.count(), len(df.columns))\n",
    "shape = get_shape(df)\n",
    "print(f\"Shape: {shape}\")"
   ]
  },
  {
   "cell_type": "code",
   "execution_count": 62,
   "metadata": {},
   "outputs": [],
   "source": [
    "df=spark.read.csv(r\"C:\\Users\\MdMuntasirulHoque\\Downloads\\Code (1)\\Code\\class_5_Spark_ETL_Extension_Class\\class_4\\data\\201508_trip_data.csv\", header=True, inferSchema=True)"
   ]
  },
  {
   "cell_type": "code",
   "execution_count": 63,
   "metadata": {},
   "outputs": [
    {
     "name": "stdout",
     "output_type": "stream",
     "text": [
      "root\n",
      " |-- Trip ID: integer (nullable = true)\n",
      " |-- Duration: integer (nullable = true)\n",
      " |-- Start Date: string (nullable = true)\n",
      " |-- Start Station: string (nullable = true)\n",
      " |-- Start Terminal: integer (nullable = true)\n",
      " |-- End Date: string (nullable = true)\n",
      " |-- End Station: string (nullable = true)\n",
      " |-- End Terminal: integer (nullable = true)\n",
      " |-- Bike #: integer (nullable = true)\n",
      " |-- Subscriber Type: string (nullable = true)\n",
      " |-- Zip Code: string (nullable = true)\n",
      "\n"
     ]
    }
   ],
   "source": [
    "df.printSchema()"
   ]
  },
  {
   "cell_type": "code",
   "execution_count": 64,
   "metadata": {},
   "outputs": [
    {
     "name": "stdout",
     "output_type": "stream",
     "text": [
      "+-------+--------+---------------+--------------------+--------------+---------------+--------------------+------------+------+---------------+--------+\n",
      "|Trip ID|Duration|     Start Date|       Start Station|Start Terminal|       End Date|         End Station|End Terminal|Bike #|Subscriber Type|Zip Code|\n",
      "+-------+--------+---------------+--------------------+--------------+---------------+--------------------+------------+------+---------------+--------+\n",
      "| 913460|     765|8/31/2015 23:26|Harry Bridges Pla...|            50|8/31/2015 23:39|San Francisco Cal...|          70|   288|     Subscriber|    2139|\n",
      "| 913459|    1036|8/31/2015 23:11|San Antonio Shopp...|            31|8/31/2015 23:28|Mountain View Cit...|          27|    35|     Subscriber|   95032|\n",
      "| 913455|     307|8/31/2015 23:13|      Post at Kearny|            47|8/31/2015 23:18|   2nd at South Park|          64|   468|     Subscriber|   94107|\n",
      "| 913454|     409|8/31/2015 23:10|  San Jose City Hall|            10|8/31/2015 23:17| San Salvador at 1st|           8|    68|     Subscriber|   95113|\n",
      "| 913453|     789|8/31/2015 23:09|Embarcadero at Fo...|            51|8/31/2015 23:22|Embarcadero at Sa...|          60|   487|       Customer|    9069|\n",
      "| 913452|     293|8/31/2015 23:07|Yerba Buena Cente...|            68|8/31/2015 23:12|San Francisco Cal...|          70|   538|     Subscriber|   94118|\n",
      "| 913451|     896|8/31/2015 23:07|Embarcadero at Fo...|            51|8/31/2015 23:22|Embarcadero at Sa...|          60|   363|       Customer|   92562|\n",
      "| 913450|     255|8/31/2015 22:16|Embarcadero at Sa...|            60|8/31/2015 22:20|   Steuart at Market|          74|   470|     Subscriber|   94111|\n",
      "| 913449|     126|8/31/2015 22:12|     Beale at Market|            56|8/31/2015 22:15|Temporary Transba...|          55|   439|     Subscriber|   94130|\n",
      "| 913448|     932|8/31/2015 21:57|      Post at Kearny|            47|8/31/2015 22:12|South Van Ness at...|          66|   472|     Subscriber|   94702|\n",
      "| 913443|     691|8/31/2015 21:49|Embarcadero at Sa...|            60|8/31/2015 22:01|   Market at Sansome|          77|   434|     Subscriber|   94109|\n",
      "| 913442|     633|8/31/2015 21:44|      Market at 10th|            67|8/31/2015 21:54|San Francisco Cal...|          70|   531|     Subscriber|   94107|\n",
      "| 913441|     387|8/31/2015 21:39|       Market at 4th|            76|8/31/2015 21:46|Grant Avenue at C...|          73|   383|     Subscriber|   94104|\n",
      "| 913440|     281|8/31/2015 21:31|   Market at Sansome|            77|8/31/2015 21:36|Broadway St at Ba...|          82|   621|     Subscriber|   94107|\n",
      "| 913435|     424|8/31/2015 21:25|Temporary Transba...|            55|8/31/2015 21:33|San Francisco Cal...|          69|   602|     Subscriber|   94401|\n",
      "| 913434|     283|8/31/2015 21:19|San Francisco Cal...|            69|8/31/2015 21:24|     Townsend at 7th|          65|   521|     Subscriber|   94107|\n",
      "| 913433|     145|8/31/2015 21:17|University and Em...|            35|8/31/2015 21:20|Cowper at University|          37|    75|       Customer|    6907|\n",
      "| 913432|     703|8/31/2015 21:16|     Spear at Folsom|            49|8/31/2015 21:28|San Francisco Cal...|          69|   426|     Subscriber|   95032|\n",
      "| 913431|     605|8/31/2015 21:11|Temporary Transba...|            55|8/31/2015 21:21|Grant Avenue at C...|          73|   572|     Subscriber|   94133|\n",
      "| 913429|     902|8/31/2015 21:07|San Francisco Cal...|            70|8/31/2015 21:22|Broadway St at Ba...|          82|   501|     Subscriber|   94133|\n",
      "+-------+--------+---------------+--------------------+--------------+---------------+--------------------+------------+------+---------------+--------+\n",
      "only showing top 20 rows\n",
      "\n"
     ]
    }
   ],
   "source": [
    "df.show()"
   ]
  },
  {
   "cell_type": "code",
   "execution_count": 65,
   "metadata": {},
   "outputs": [],
   "source": [
    "df=df.withColumn(\n",
    "    \"Start Date\",\n",
    "    F.to_date(\"Start Date\", \"M/d/yyyy HH:mm\")\n",
    "\n",
    ").withColumn(\n",
    "    \"End Date\",\n",
    "    F.to_date(\"End Date\",\"M/d/yyyy HH:mm\")\n",
    ")"
   ]
  },
  {
   "cell_type": "code",
   "execution_count": 66,
   "metadata": {},
   "outputs": [
    {
     "name": "stdout",
     "output_type": "stream",
     "text": [
      "+-------+--------+----------+--------------------+--------------+----------+--------------------+------------+------+---------------+--------+\n",
      "|Trip ID|Duration|Start Date|       Start Station|Start Terminal|  End Date|         End Station|End Terminal|Bike #|Subscriber Type|Zip Code|\n",
      "+-------+--------+----------+--------------------+--------------+----------+--------------------+------------+------+---------------+--------+\n",
      "| 913460|     765|2015-08-31|Harry Bridges Pla...|            50|2015-08-31|San Francisco Cal...|          70|   288|     Subscriber|    2139|\n",
      "| 913459|    1036|2015-08-31|San Antonio Shopp...|            31|2015-08-31|Mountain View Cit...|          27|    35|     Subscriber|   95032|\n",
      "| 913455|     307|2015-08-31|      Post at Kearny|            47|2015-08-31|   2nd at South Park|          64|   468|     Subscriber|   94107|\n",
      "| 913454|     409|2015-08-31|  San Jose City Hall|            10|2015-08-31| San Salvador at 1st|           8|    68|     Subscriber|   95113|\n",
      "| 913453|     789|2015-08-31|Embarcadero at Fo...|            51|2015-08-31|Embarcadero at Sa...|          60|   487|       Customer|    9069|\n",
      "| 913452|     293|2015-08-31|Yerba Buena Cente...|            68|2015-08-31|San Francisco Cal...|          70|   538|     Subscriber|   94118|\n",
      "| 913451|     896|2015-08-31|Embarcadero at Fo...|            51|2015-08-31|Embarcadero at Sa...|          60|   363|       Customer|   92562|\n",
      "| 913450|     255|2015-08-31|Embarcadero at Sa...|            60|2015-08-31|   Steuart at Market|          74|   470|     Subscriber|   94111|\n",
      "| 913449|     126|2015-08-31|     Beale at Market|            56|2015-08-31|Temporary Transba...|          55|   439|     Subscriber|   94130|\n",
      "| 913448|     932|2015-08-31|      Post at Kearny|            47|2015-08-31|South Van Ness at...|          66|   472|     Subscriber|   94702|\n",
      "| 913443|     691|2015-08-31|Embarcadero at Sa...|            60|2015-08-31|   Market at Sansome|          77|   434|     Subscriber|   94109|\n",
      "| 913442|     633|2015-08-31|      Market at 10th|            67|2015-08-31|San Francisco Cal...|          70|   531|     Subscriber|   94107|\n",
      "| 913441|     387|2015-08-31|       Market at 4th|            76|2015-08-31|Grant Avenue at C...|          73|   383|     Subscriber|   94104|\n",
      "| 913440|     281|2015-08-31|   Market at Sansome|            77|2015-08-31|Broadway St at Ba...|          82|   621|     Subscriber|   94107|\n",
      "| 913435|     424|2015-08-31|Temporary Transba...|            55|2015-08-31|San Francisco Cal...|          69|   602|     Subscriber|   94401|\n",
      "| 913434|     283|2015-08-31|San Francisco Cal...|            69|2015-08-31|     Townsend at 7th|          65|   521|     Subscriber|   94107|\n",
      "| 913433|     145|2015-08-31|University and Em...|            35|2015-08-31|Cowper at University|          37|    75|       Customer|    6907|\n",
      "| 913432|     703|2015-08-31|     Spear at Folsom|            49|2015-08-31|San Francisco Cal...|          69|   426|     Subscriber|   95032|\n",
      "| 913431|     605|2015-08-31|Temporary Transba...|            55|2015-08-31|Grant Avenue at C...|          73|   572|     Subscriber|   94133|\n",
      "| 913429|     902|2015-08-31|San Francisco Cal...|            70|2015-08-31|Broadway St at Ba...|          82|   501|     Subscriber|   94133|\n",
      "| 913426|     481|2015-08-31|San Francisco Cal...|            70|2015-08-31|       Market at 4th|          76|   542|     Subscriber|   95054|\n",
      "| 913421|     335|2015-08-31|Mountain View Cal...|            28|2015-08-31|Castro Street and...|          32|    13|     Subscriber|   94040|\n",
      "| 913419|     704|2015-08-31|   Steuart at Market|            74|2015-08-31|San Francisco Cal...|          70|   579|     Subscriber|   94158|\n",
      "| 913416|     326|2015-08-31|Yerba Buena Cente...|            68|2015-08-31|San Francisco Cal...|          69|   517|     Subscriber|   94061|\n",
      "| 913415|     274|2015-08-31|Harry Bridges Pla...|            50|2015-08-31|Embarcadero at Br...|          54|   524|     Subscriber|   94105|\n",
      "| 913410|     709|2015-08-31|Embarcadero at Sa...|            60|2015-08-31|Embarcadero at Br...|          54|   553|     Subscriber|   94105|\n",
      "| 913409|     486|2015-08-31|     Spear at Folsom|            49|2015-08-31|     2nd at Townsend|          61|   652|     Subscriber|   94107|\n",
      "| 913404|     273|2015-08-31|San Francisco Cal...|            69|2015-08-31|     Townsend at 7th|          65|   287|     Subscriber|   94107|\n",
      "| 913403|     497|2015-08-31|   Market at Sansome|            77|2015-08-31|     2nd at Townsend|          61|   359|     Subscriber|   94105|\n",
      "| 913402|     395|2015-08-31|      Market at 10th|            67|2015-08-31|       5th at Howard|          57|   877|     Subscriber|   94103|\n",
      "| 913401|     509|2015-08-31|Civic Center BART...|            72|2015-08-31|     Beale at Market|          56|   562|     Subscriber|   94577|\n",
      "| 913400|     671|2015-08-31|     2nd at Townsend|            61|2015-08-31|Powell at Post (U...|          71|    33|       Customer|   43214|\n",
      "| 913393|     307|2015-08-31|Castro Street and...|            32|2015-08-31|Mountain View Cal...|          28|   147|     Subscriber|   94041|\n",
      "| 913392|     359|2015-08-31|       Howard at 2nd|            63|2015-08-31|San Francisco Cal...|          70|   501|     Subscriber|   94062|\n",
      "| 913391|     310|2015-08-31|       5th at Howard|            57|2015-08-31|San Francisco Cal...|          69|   214|     Subscriber|   94303|\n",
      "| 913388|     329|2015-08-31|   2nd at South Park|            64|2015-08-31|   Market at Sansome|          77|   621|     Subscriber|   94705|\n",
      "| 913387|     382|2015-08-31|       5th at Howard|            57|2015-08-31|San Francisco Cal...|          69|   238|       Customer|   19127|\n",
      "| 913386|    1808|2015-08-31|Embarcadero at Br...|            54|2015-08-31|Harry Bridges Pla...|          50|   524|     Subscriber|   94105|\n",
      "| 913385|     215|2015-08-31|       Howard at 2nd|            63|2015-08-31|   2nd at South Park|          64|   193|     Subscriber|   94107|\n",
      "| 913384|     393|2015-08-31|       5th at Howard|            57|2015-08-31|San Francisco Cal...|          69|   584|       Customer|   19134|\n",
      "| 913383|    1435|2015-08-31|     2nd at Townsend|            61|2015-08-31|Embarcadero at Sa...|          60|   604|       Customer|   98103|\n",
      "| 913382|     645|2015-08-31|     Townsend at 7th|            65|2015-08-31|Harry Bridges Pla...|          50|   270|     Subscriber|   94945|\n",
      "| 913381|     346|2015-08-31|Yerba Buena Cente...|            68|2015-08-31|   Steuart at Market|          74|   284|     Subscriber|   94602|\n",
      "| 913380|     776|2015-08-31|   Market at Sansome|            77|2015-08-31|San Francisco Cal...|          70|    29|     Subscriber|   94087|\n",
      "| 913379|     803|2015-08-31|     Spear at Folsom|            49|2015-08-31|     Townsend at 7th|          65|   607|     Subscriber|   94107|\n",
      "| 913375|     378|2015-08-31|   Market at Sansome|            77|2015-08-31|Broadway St at Ba...|          82|   282|     Subscriber|   94111|\n",
      "| 913372|     523|2015-08-31|San Francisco Cal...|            69|2015-08-31|Harry Bridges Pla...|          50|   625|     Subscriber|   94107|\n",
      "| 913371|     663|2015-08-31|     Townsend at 7th|            65|2015-08-31|     Spear at Folsom|          49|   405|     Subscriber|   94103|\n",
      "| 913368|     888|2015-08-31|Commercial at Mon...|            45|2015-08-31|San Francisco Cit...|          58|   598|     Subscriber|   94102|\n",
      "| 913367|     842|2015-08-31|San Francisco Cal...|            70|2015-08-31|     Spear at Folsom|          49|   652|       Customer|   94105|\n",
      "| 913364|     444|2015-08-31|San Francisco Cal...|            69|2015-08-31|  Powell Street BART|          39|   134|     Subscriber|   94105|\n",
      "| 913363|     489|2015-08-31|       Howard at 2nd|            63|2015-08-31|San Francisco Cal...|          69|   465|     Subscriber|   94070|\n",
      "| 913361|     236|2015-08-31|San Francisco Cal...|            69|2015-08-31|     Townsend at 7th|          65|   270|     Subscriber|   94107|\n",
      "| 913356|     217|2015-08-31|   Market at Sansome|            77|2015-08-31|     Clay at Battery|          41|   505|     Subscriber|   94301|\n",
      "| 913353|     577|2015-08-31|Yerba Buena Cente...|            68|2015-08-31|     2nd at Townsend|          61|    66|       Customer|   43214|\n",
      "| 913351|     290|2015-08-31|       Howard at 2nd|            63|2015-08-31|       Market at 4th|          76|   401|     Subscriber|   94107|\n",
      "| 913349|     559|2015-08-31|Harry Bridges Pla...|            50|2015-08-31|     2nd at Townsend|          61|   587|     Subscriber|   94107|\n",
      "| 913348|     609|2015-08-31|Yerba Buena Cente...|            68|2015-08-31|      Market at 10th|          67|   877|     Subscriber|   94102|\n",
      "| 913346|     466|2015-08-31|       Market at 4th|            76|2015-08-31|San Francisco Cal...|          69|   450|     Subscriber|   94107|\n",
      "| 913345|     482|2015-08-31|San Francisco Cal...|            69|2015-08-31|  Powell Street BART|          39|   425|     Subscriber|   94107|\n",
      "| 913344|     326|2015-08-31|     Spear at Folsom|            49|2015-08-31|    Davis at Jackson|          42|   672|     Subscriber|   94111|\n",
      "| 913343|     426|2015-08-31|       5th at Howard|            57|2015-08-31|     Townsend at 7th|          65|   457|     Subscriber|   94107|\n",
      "| 913342|     471|2015-08-31|South Van Ness at...|            66|2015-08-31|       Market at 4th|          76|   450|     Subscriber|   94108|\n",
      "| 913341|     368|2015-08-31|      Post at Kearny|            47|2015-08-31|       5th at Howard|          57|   214|     Subscriber|   94107|\n",
      "| 913340|     616|2015-08-31|     2nd at Townsend|            61|2015-08-31|   Steuart at Market|          74|   354|     Subscriber|   94609|\n",
      "| 913338|     403|2015-08-31|     2nd at Townsend|            61|2015-08-31|   Market at Sansome|          77|   364|     Subscriber|   94708|\n",
      "| 913337|     384|2015-08-31|San Francisco Cal...|            69|2015-08-31|   2nd at South Park|          64|   277|     Subscriber|   94107|\n",
      "| 913335|     472|2015-08-31|       Market at 4th|            76|2015-08-31|San Francisco Cal...|          69|   287|     Subscriber|   94107|\n",
      "| 913329|     509|2015-08-31|Mechanics Plaza (...|            75|2015-08-31|Civic Center BART...|          72|   317|     Subscriber|   94103|\n",
      "| 913326|     905|2015-08-31|Mountain View Cal...|            28|2015-08-31|Rengstorff Avenue...|          33|    92|     Subscriber|   94040|\n",
      "| 913324|     375|2015-08-31|San Francisco Cal...|            69|2015-08-31|   2nd at South Park|          64|   558|     Subscriber|   94105|\n",
      "| 913322|     782|2015-08-31| Golden Gate at Polk|            59|2015-08-31|     Spear at Folsom|          49|   498|     Subscriber|   94105|\n",
      "| 913321|     191|2015-08-31|   Steuart at Market|            74|2015-08-31|Mechanics Plaza (...|          75|   462|     Subscriber|   94107|\n",
      "| 913320|     792|2015-08-31|       Market at 4th|            76|2015-08-31|     2nd at Townsend|          61|   437|     Subscriber|   94107|\n",
      "| 913318|     471|2015-08-31|Embarcadero at Fo...|            51|2015-08-31|Grant Avenue at C...|          73|   482|     Subscriber|   94133|\n",
      "| 913317|     441|2015-08-31|   Steuart at Market|            74|2015-08-31|Embarcadero at Sa...|          60|   355|     Subscriber|   94133|\n",
      "| 913316|     300|2015-08-31|San Francisco Cal...|            69|2015-08-31|     Townsend at 7th|          65|   368|     Subscriber|   94107|\n",
      "| 913315|     518|2015-08-31|   Steuart at Market|            74|2015-08-31|     2nd at Townsend|          61|   463|     Subscriber|   94107|\n",
      "| 913314|     340|2015-08-31|   2nd at South Park|            64|2015-08-31|   Steuart at Market|          74|   560|     Subscriber|   94607|\n",
      "| 913313|     387|2015-08-31|   Market at Sansome|            77|2015-08-31|  Powell Street BART|          39|   423|     Subscriber|   94105|\n",
      "| 913311|     144|2015-08-31|       Howard at 2nd|            63|2015-08-31|   Market at Sansome|          77|   282|     Subscriber|   94105|\n",
      "| 913309|     344|2015-08-31|     2nd at Townsend|            61|2015-08-31|       Howard at 2nd|          63|   501|     Subscriber|   94965|\n",
      "| 913308|     185|2015-08-31|San Francisco Cal...|            69|2015-08-31|     2nd at Townsend|          61|   541|     Subscriber|   94158|\n",
      "| 913307|     811|2015-08-31|   Steuart at Market|            74|2015-08-31|San Francisco Cal...|          70|   548|     Subscriber|   94107|\n",
      "| 913306|     625|2015-08-31|   2nd at South Park|            64|2015-08-31|San Francisco Cit...|          58|   492|     Subscriber|   94115|\n",
      "| 913305|     306|2015-08-31|    Davis at Jackson|            42|2015-08-31|Temporary Transba...|          55|   687|     Subscriber|   94608|\n",
      "| 913304|     206|2015-08-31|Embarcadero at Va...|            48|2015-08-31|   Steuart at Market|          74|   355|     Subscriber|   94610|\n",
      "| 913303|     296|2015-08-31|   2nd at South Park|            64|2015-08-31|     Spear at Folsom|          49|   672|     Subscriber|   94105|\n",
      "| 913301|    1049|2015-08-31|   Market at Sansome|            77|2015-08-31|South Van Ness at...|          66|   608|       Customer|   90038|\n",
      "| 913299|    1074|2015-08-31|      Market at 10th|            67|2015-08-31|Embarcadero at Sa...|          60|   434|       Customer|      31|\n",
      "| 913298|     434|2015-08-31|     2nd at Townsend|            61|2015-08-31|   Market at Sansome|          77|   505|     Subscriber|   94705|\n",
      "| 913297|     501|2015-08-31|     2nd at Townsend|            61|2015-08-31|     Spear at Folsom|          49|   607|     Subscriber|   94107|\n",
      "| 913296|     765|2015-08-31|       Howard at 2nd|            63|2015-08-31|     Townsend at 7th|          65|   564|     Subscriber|   94116|\n",
      "| 913295|     357|2015-08-31|   Market at Sansome|            77|2015-08-31|Powell at Post (U...|          71|   388|     Subscriber|   94109|\n",
      "| 913294|     213|2015-08-31|   2nd at South Park|            64|2015-08-31|       Howard at 2nd|          63|   193|     Subscriber|   94107|\n",
      "| 913293|     354|2015-08-31|    Davis at Jackson|            42|2015-08-31|Embarcadero at Sa...|          60|   502|     Subscriber|   94133|\n",
      "| 913292|     448|2015-08-31|   Market at Sansome|            77|2015-08-31|Embarcadero at Br...|          54|   524|     Subscriber|   94105|\n",
      "| 913291|     390|2015-08-31|    Davis at Jackson|            42|2015-08-31|Embarcadero at Sa...|          60|   470|     Subscriber|   94133|\n",
      "| 913290|     273|2015-08-31|     Spear at Folsom|            49|2015-08-31|     2nd at Townsend|          61|   606|     Subscriber|   89451|\n",
      "| 913289|     445|2015-08-31|   Market at Sansome|            77|2015-08-31|   2nd at South Park|          64|   621|     Subscriber|   94107|\n",
      "+-------+--------+----------+--------------------+--------------+----------+--------------------+------------+------+---------------+--------+\n",
      "only showing top 100 rows\n",
      "\n"
     ]
    }
   ],
   "source": [
    "df.show(100)"
   ]
  },
  {
   "cell_type": "code",
   "execution_count": 67,
   "metadata": {},
   "outputs": [],
   "source": [
    "df=df.withColumn(\n",
    "    \"Start Date\",\n",
    "    F.to_date(\"Start Date\", \"M/d/yyyy HH:mm\")\n",
    ").withColumn(\n",
    "        \"End Date\",\n",
    "        F.to_date(\"Start Date\", \"M/d/yyyy HH:mm\")\n",
    ")"
   ]
  },
  {
   "cell_type": "code",
   "execution_count": 68,
   "metadata": {},
   "outputs": [],
   "source": [
    "df=df.withColumn(\n",
    "\"Days Diff\",\n",
    "F.date_diff(\"Start Date\",\"End Date\")\n",
    ")"
   ]
  },
  {
   "cell_type": "code",
   "execution_count": 69,
   "metadata": {},
   "outputs": [
    {
     "name": "stdout",
     "output_type": "stream",
     "text": [
      "+-------+--------+----------+--------------------+--------------+----------+--------------------+------------+------+---------------+--------+---------+\n",
      "|Trip ID|Duration|Start Date|       Start Station|Start Terminal|  End Date|         End Station|End Terminal|Bike #|Subscriber Type|Zip Code|Days Diff|\n",
      "+-------+--------+----------+--------------------+--------------+----------+--------------------+------------+------+---------------+--------+---------+\n",
      "| 913460|     765|2015-08-31|Harry Bridges Pla...|            50|2015-08-31|San Francisco Cal...|          70|   288|     Subscriber|    2139|        0|\n",
      "| 913459|    1036|2015-08-31|San Antonio Shopp...|            31|2015-08-31|Mountain View Cit...|          27|    35|     Subscriber|   95032|        0|\n",
      "+-------+--------+----------+--------------------+--------------+----------+--------------------+------------+------+---------------+--------+---------+\n",
      "only showing top 2 rows\n",
      "\n"
     ]
    }
   ],
   "source": [
    "df.show(2)"
   ]
  },
  {
   "cell_type": "code",
   "execution_count": 71,
   "metadata": {},
   "outputs": [
    {
     "name": "stdout",
     "output_type": "stream",
     "text": [
      "+-------------+\n",
      "|Start Station|\n",
      "+-------------+\n",
      "|            7|\n",
      "+-------------+\n",
      "\n"
     ]
    }
   ],
   "source": [
    "df.withColumn(\n",
    "    \"Start Station\",\n",
    "    F.locate(\"Bridges\", \"Start Station\")\n",
    ").where(\n",
    "\n",
    "    F.col(\"Start Station\")!=0\n",
    "\n",
    ").select(\"Start Station\").distinct().show()"
   ]
  },
  {
   "cell_type": "code",
   "execution_count": 72,
   "metadata": {},
   "outputs": [
    {
     "name": "stdout",
     "output_type": "stream",
     "text": [
      "+-------------+\n",
      "|Start Station|\n",
      "+-------------+\n",
      "|            7|\n",
      "+-------------+\n",
      "\n"
     ]
    }
   ],
   "source": [
    "df.withColumn(\n",
    "    \"Start Station\",\n",
    "    F.locate(\"Bridges\", \"Start Station\")\n",
    ").where(\n",
    "\n",
    "F.col(\"Start Station\") !=0\n",
    "\n",
    ").select(\"Start Station\").distinct().show()"
   ]
  },
  {
   "cell_type": "code",
   "execution_count": null,
   "metadata": {},
   "outputs": [],
   "source": [
    "# df=df.withColumn(\"geohash5\", substring(col(\"geohash\"),1,5)\n",
    "#                 ).withColumn(\"geohash4\", substring(col(\"geohash\"),1,4)\n",
    "#                             ).withColumn(\"geohash3\", substring(col(\"geohash\"),1,3))"
   ]
  },
  {
   "cell_type": "code",
   "execution_count": 74,
   "metadata": {},
   "outputs": [],
   "source": [
    "df = spark.read.csv(r'C:\\Users\\MdMuntasirulHoque\\OneDrive - ADA Global\\IMPORTANT FILE\\POI DATA\\IMPORTANT\\BD_lookup_table.csv', header=True, inferSchema=True)"
   ]
  },
  {
   "cell_type": "code",
   "execution_count": 76,
   "metadata": {},
   "outputs": [
    {
     "name": "stdout",
     "output_type": "stream",
     "text": [
      "root\n",
      " |-- geohash: string (nullable = true)\n",
      " |-- country: string (nullable = true)\n",
      " |-- division: string (nullable = true)\n",
      " |-- district: string (nullable = true)\n",
      " |-- thana: string (nullable = true)\n",
      " |-- union: string (nullable = true)\n",
      "\n"
     ]
    }
   ],
   "source": [
    "df.printSchema()"
   ]
  },
  {
   "cell_type": "code",
   "execution_count": 78,
   "metadata": {},
   "outputs": [
    {
     "name": "stdout",
     "output_type": "stream",
     "text": [
      "+----------+\n",
      "|  division|\n",
      "+----------+\n",
      "|     Dhaka|\n",
      "|    Khulna|\n",
      "|  Rajshahi|\n",
      "|   Barisal|\n",
      "|Chittagong|\n",
      "|    Sylhet|\n",
      "|Mymensingh|\n",
      "|   Rangpur|\n",
      "+----------+\n",
      "\n"
     ]
    }
   ],
   "source": [
    "df.select(\"division\").distinct().show()"
   ]
  },
  {
   "cell_type": "code",
   "execution_count": 80,
   "metadata": {},
   "outputs": [],
   "source": [
    "from pyspark.sql.functions import col, substring\n",
    "df=df.withColumn(\"geohash5\", substring(col(\"geohash\"),1,5)\n",
    "                ).withColumn(\"geohash4\", substring(col(\"geohash\"),1,4)\n",
    "                            ).withColumn(\"geohash3\", substring(col(\"geohash\"),1,3))"
   ]
  },
  {
   "cell_type": "code",
   "execution_count": 81,
   "metadata": {},
   "outputs": [
    {
     "name": "stdout",
     "output_type": "stream",
     "text": [
      "+-------+----------+--------+--------+----------+---------------+--------+--------+--------+\n",
      "|geohash|   country|division|district|     thana|          union|geohash5|geohash4|geohash3|\n",
      "+-------+----------+--------+--------+----------+---------------+--------+--------+--------+\n",
      "| tgzq6c|Bangladesh|  Khulna|Satkhira|Shyamnagar| Satkhira Range|   tgzq6|    tgzq|     tgz|\n",
      "| tgzqke|Bangladesh|  Khulna|Satkhira|Shyamnagar|   Ramjan Nagar|   tgzqk|    tgzq|     tgz|\n",
      "| tgzqud|Bangladesh|  Khulna|Satkhira|Shyamnagar|   Ramjan Nagar|   tgzqu|    tgzq|     tgz|\n",
      "| tgzr0w|Bangladesh|  Khulna|Satkhira|  Kaliganj|       Ratanpur|   tgzr0|    tgzr|     tgz|\n",
      "| tgzr29|Bangladesh|  Khulna|Satkhira|  Kaliganj|      Dhalbaria|   tgzr2|    tgzr|     tgz|\n",
      "| tgzrfd|Bangladesh|  Khulna|Satkhira|  Kaliganj|Dakshin Sreepur|   tgzrf|    tgzr|     tgz|\n",
      "| tgzrne|Bangladesh|  Khulna|Satkhira|Shyamnagar|         Atulia|   tgzrn|    tgzr|     tgz|\n",
      "| tgzrny|Bangladesh|  Khulna|Satkhira|Shyamnagar|         Atulia|   tgzrn|    tgzr|     tgz|\n",
      "| tgzrrf|Bangladesh|  Khulna|  Khulna|     Koyra|     Maharajpur|   tgzrr|    tgzr|     tgz|\n",
      "| tgzrve|Bangladesh|  Khulna|Satkhira|  Assasuni|         Khajra|   tgzrv|    tgzr|     tgz|\n",
      "| tgzrwe|Bangladesh|  Khulna|Satkhira|  Assasuni|         Anulia|   tgzrw|    tgzr|     tgz|\n",
      "| tgzx09|Bangladesh|  Khulna|  Khulna|     Koyra|          Koyra|   tgzx0|    tgzx|     tgz|\n",
      "| tgzx0t|Bangladesh|  Khulna|  Khulna|     Koyra|          Koyra|   tgzx0|    tgzx|     tgz|\n",
      "| tgzx8s|Bangladesh|  Khulna|  Khulna|     Koyra|         Bagali|   tgzx8|    tgzx|     tgz|\n",
      "| tgzx8z|Bangladesh|  Khulna|  Khulna|     Koyra|         Bagali|   tgzx8|    tgzx|     tgz|\n",
      "| tgzxbc|Bangladesh|  Khulna|  Khulna|     Koyra|         Bagali|   tgzxb|    tgzx|     tgz|\n",
      "| tgzyus|Bangladesh| Barisal|Pirojpur| Mathbaria|   Bara Machhua|   tgzyu|    tgzy|     tgz|\n",
      "| tgzywn|Bangladesh| Barisal|Pirojpur| Mathbaria|Betmore Rajpara|   tgzyw|    tgzy|     tgz|\n",
      "| tgzz50|Bangladesh|  Khulna|Bagerhat|Sarankhola|     Khontakata|   tgzz5|    tgzz|     tgz|\n",
      "| tgzz5k|Bangladesh|  Khulna|Bagerhat|Sarankhola|      Dhansagar|   tgzz5|    tgzz|     tgz|\n",
      "+-------+----------+--------+--------+----------+---------------+--------+--------+--------+\n",
      "only showing top 20 rows\n",
      "\n"
     ]
    }
   ],
   "source": [
    "df.show()"
   ]
  },
  {
   "cell_type": "code",
   "execution_count": 86,
   "metadata": {},
   "outputs": [],
   "source": [
    "# List of divisions to create indicator columns for\n",
    "divisions = [\"Dhaka\", \"Chittagong\", \"Khulna\", \"Rajshahi\", \"Barisal\", \"Sylhet\", \"Mymensingh\", \"Rangpur\"]\n",
    "\n",
    "# Add indicator columns dynamically\n",
    "for div in divisions:\n",
    "    df = df.withColumn(div, when(col(\"division\") == div, lit(1)).otherwise(lit(0)))\n"
   ]
  },
  {
   "cell_type": "code",
   "execution_count": 87,
   "metadata": {},
   "outputs": [
    {
     "name": "stdout",
     "output_type": "stream",
     "text": [
      "+-------+----------+--------+--------+----------+---------------+--------+--------+--------+-----+----------+------+--------+-------+------+----------+-------+\n",
      "|geohash|   country|division|district|     thana|          union|geohash5|geohash4|geohash3|Dhaka|Chittagong|Khulna|Rajshahi|Barisal|Sylhet|Mymensingh|Rangpur|\n",
      "+-------+----------+--------+--------+----------+---------------+--------+--------+--------+-----+----------+------+--------+-------+------+----------+-------+\n",
      "| tgzq6c|Bangladesh|  Khulna|Satkhira|Shyamnagar| Satkhira Range|   tgzq6|    tgzq|     tgz|    0|         0|     1|       0|      0|     0|         0|      0|\n",
      "| tgzqke|Bangladesh|  Khulna|Satkhira|Shyamnagar|   Ramjan Nagar|   tgzqk|    tgzq|     tgz|    0|         0|     1|       0|      0|     0|         0|      0|\n",
      "| tgzqud|Bangladesh|  Khulna|Satkhira|Shyamnagar|   Ramjan Nagar|   tgzqu|    tgzq|     tgz|    0|         0|     1|       0|      0|     0|         0|      0|\n",
      "| tgzr0w|Bangladesh|  Khulna|Satkhira|  Kaliganj|       Ratanpur|   tgzr0|    tgzr|     tgz|    0|         0|     1|       0|      0|     0|         0|      0|\n",
      "| tgzr29|Bangladesh|  Khulna|Satkhira|  Kaliganj|      Dhalbaria|   tgzr2|    tgzr|     tgz|    0|         0|     1|       0|      0|     0|         0|      0|\n",
      "| tgzrfd|Bangladesh|  Khulna|Satkhira|  Kaliganj|Dakshin Sreepur|   tgzrf|    tgzr|     tgz|    0|         0|     1|       0|      0|     0|         0|      0|\n",
      "| tgzrne|Bangladesh|  Khulna|Satkhira|Shyamnagar|         Atulia|   tgzrn|    tgzr|     tgz|    0|         0|     1|       0|      0|     0|         0|      0|\n",
      "| tgzrny|Bangladesh|  Khulna|Satkhira|Shyamnagar|         Atulia|   tgzrn|    tgzr|     tgz|    0|         0|     1|       0|      0|     0|         0|      0|\n",
      "| tgzrrf|Bangladesh|  Khulna|  Khulna|     Koyra|     Maharajpur|   tgzrr|    tgzr|     tgz|    0|         0|     1|       0|      0|     0|         0|      0|\n",
      "| tgzrve|Bangladesh|  Khulna|Satkhira|  Assasuni|         Khajra|   tgzrv|    tgzr|     tgz|    0|         0|     1|       0|      0|     0|         0|      0|\n",
      "| tgzrwe|Bangladesh|  Khulna|Satkhira|  Assasuni|         Anulia|   tgzrw|    tgzr|     tgz|    0|         0|     1|       0|      0|     0|         0|      0|\n",
      "| tgzx09|Bangladesh|  Khulna|  Khulna|     Koyra|          Koyra|   tgzx0|    tgzx|     tgz|    0|         0|     1|       0|      0|     0|         0|      0|\n",
      "| tgzx0t|Bangladesh|  Khulna|  Khulna|     Koyra|          Koyra|   tgzx0|    tgzx|     tgz|    0|         0|     1|       0|      0|     0|         0|      0|\n",
      "| tgzx8s|Bangladesh|  Khulna|  Khulna|     Koyra|         Bagali|   tgzx8|    tgzx|     tgz|    0|         0|     1|       0|      0|     0|         0|      0|\n",
      "| tgzx8z|Bangladesh|  Khulna|  Khulna|     Koyra|         Bagali|   tgzx8|    tgzx|     tgz|    0|         0|     1|       0|      0|     0|         0|      0|\n",
      "| tgzxbc|Bangladesh|  Khulna|  Khulna|     Koyra|         Bagali|   tgzxb|    tgzx|     tgz|    0|         0|     1|       0|      0|     0|         0|      0|\n",
      "| tgzyus|Bangladesh| Barisal|Pirojpur| Mathbaria|   Bara Machhua|   tgzyu|    tgzy|     tgz|    0|         0|     0|       0|      1|     0|         0|      0|\n",
      "| tgzywn|Bangladesh| Barisal|Pirojpur| Mathbaria|Betmore Rajpara|   tgzyw|    tgzy|     tgz|    0|         0|     0|       0|      1|     0|         0|      0|\n",
      "| tgzz50|Bangladesh|  Khulna|Bagerhat|Sarankhola|     Khontakata|   tgzz5|    tgzz|     tgz|    0|         0|     1|       0|      0|     0|         0|      0|\n",
      "| tgzz5k|Bangladesh|  Khulna|Bagerhat|Sarankhola|      Dhansagar|   tgzz5|    tgzz|     tgz|    0|         0|     1|       0|      0|     0|         0|      0|\n",
      "+-------+----------+--------+--------+----------+---------------+--------+--------+--------+-----+----------+------+--------+-------+------+----------+-------+\n",
      "only showing top 20 rows\n",
      "\n"
     ]
    }
   ],
   "source": [
    "df.show()"
   ]
  },
  {
   "cell_type": "code",
   "execution_count": null,
   "metadata": {},
   "outputs": [],
   "source": [
    "output=final_df.groupBy('data_usage').agg(F.countDistinct('ifa').alias('count')).sort('count', ascending=False)\n",
    "output.show(4, False)"
   ]
  }
 ],
 "metadata": {
  "kernelspec": {
   "display_name": "Python 3",
   "language": "python",
   "name": "python3"
  },
  "language_info": {
   "codemirror_mode": {
    "name": "ipython",
    "version": 3
   },
   "file_extension": ".py",
   "mimetype": "text/x-python",
   "name": "python",
   "nbconvert_exporter": "python",
   "pygments_lexer": "ipython3",
   "version": "3.13.1"
  }
 },
 "nbformat": 4,
 "nbformat_minor": 2
}
