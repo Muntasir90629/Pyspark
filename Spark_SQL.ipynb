{
 "cells": [
  {
   "cell_type": "code",
   "execution_count": 76,
   "metadata": {},
   "outputs": [],
   "source": [
    "from pyspark.sql import SparkSession, Row\n",
    "from pyspark.sql.functions import col, sum, when, lit, year, month, day, date_add, avg, upper, lower, substring, explode, coalesce, pandas_udf\n",
    "from pyspark.sql.types import StringType, IntegerType, DateType, StructType, StructField\n",
    "from datetime import datetime, timedelta, date\n",
    "import numpy as np\n",
    "import pandas as pd\n",
    "from pyspark.sql import functions as F\n",
    "from pyspark.sql.window import Window\n",
    "from pyspark.ml.feature import Imputer\n",
    "\n",
    "spark = SparkSession.builder \\\n",
    "    .appName(\"SparkReadOperations\") \\\n",
    "    .config(\"spark.executor.cores\", \"12\") \\\n",
    "    .config(\"spark.executor.memory\", \"4g\") \\\n",
    "    .config(\"spark.driver.memory\", \"2g\") \\\n",
    "    .config(\"spark.sql.shuffle.partitions\", \"12\") \\\n",
    "    .getOrCreate()"
   ]
  },
  {
   "cell_type": "code",
   "execution_count": 77,
   "metadata": {},
   "outputs": [],
   "source": [
    "df = spark.read.csv(r'C:\\Users\\MdMuntasirulHoque\\OneDrive - ADA Global\\IMPORTANT FILE\\POI DATA\\IMPORTANT\\BD_lookup_table.csv', header=True, inferSchema=True)"
   ]
  },
  {
   "cell_type": "code",
   "execution_count": 78,
   "metadata": {},
   "outputs": [],
   "source": [
    "df.createOrReplaceTempView(\"POI\")"
   ]
  },
  {
   "cell_type": "code",
   "execution_count": 79,
   "metadata": {},
   "outputs": [
    {
     "name": "stdout",
     "output_type": "stream",
     "text": [
      "+-------+----------+--------+--------+----------+---------------+\n",
      "|geohash|   country|division|district|     thana|          union|\n",
      "+-------+----------+--------+--------+----------+---------------+\n",
      "| tgzq6c|Bangladesh|  Khulna|Satkhira|Shyamnagar| Satkhira Range|\n",
      "| tgzqke|Bangladesh|  Khulna|Satkhira|Shyamnagar|   Ramjan Nagar|\n",
      "| tgzqud|Bangladesh|  Khulna|Satkhira|Shyamnagar|   Ramjan Nagar|\n",
      "| tgzr0w|Bangladesh|  Khulna|Satkhira|  Kaliganj|       Ratanpur|\n",
      "| tgzr29|Bangladesh|  Khulna|Satkhira|  Kaliganj|      Dhalbaria|\n",
      "| tgzrfd|Bangladesh|  Khulna|Satkhira|  Kaliganj|Dakshin Sreepur|\n",
      "| tgzrne|Bangladesh|  Khulna|Satkhira|Shyamnagar|         Atulia|\n",
      "| tgzrny|Bangladesh|  Khulna|Satkhira|Shyamnagar|         Atulia|\n",
      "| tgzrrf|Bangladesh|  Khulna|  Khulna|     Koyra|     Maharajpur|\n",
      "| tgzrve|Bangladesh|  Khulna|Satkhira|  Assasuni|         Khajra|\n",
      "| tgzrwe|Bangladesh|  Khulna|Satkhira|  Assasuni|         Anulia|\n",
      "| tgzx09|Bangladesh|  Khulna|  Khulna|     Koyra|          Koyra|\n",
      "| tgzx0t|Bangladesh|  Khulna|  Khulna|     Koyra|          Koyra|\n",
      "| tgzx8s|Bangladesh|  Khulna|  Khulna|     Koyra|         Bagali|\n",
      "| tgzx8z|Bangladesh|  Khulna|  Khulna|     Koyra|         Bagali|\n",
      "| tgzxbc|Bangladesh|  Khulna|  Khulna|     Koyra|         Bagali|\n",
      "| tgzyus|Bangladesh| Barisal|Pirojpur| Mathbaria|   Bara Machhua|\n",
      "| tgzywn|Bangladesh| Barisal|Pirojpur| Mathbaria|Betmore Rajpara|\n",
      "| tgzz50|Bangladesh|  Khulna|Bagerhat|Sarankhola|     Khontakata|\n",
      "| tgzz5k|Bangladesh|  Khulna|Bagerhat|Sarankhola|      Dhansagar|\n",
      "+-------+----------+--------+--------+----------+---------------+\n",
      "only showing top 20 rows\n",
      "\n"
     ]
    }
   ],
   "source": [
    "df.show()"
   ]
  },
  {
   "cell_type": "code",
   "execution_count": 80,
   "metadata": {},
   "outputs": [
    {
     "name": "stdout",
     "output_type": "stream",
     "text": [
      "+-------+----------+--------+--------+----------+--------------+\n",
      "|geohash|   country|division|district|     thana|         union|\n",
      "+-------+----------+--------+--------+----------+--------------+\n",
      "| tgzq6c|Bangladesh|  Khulna|Satkhira|Shyamnagar|Satkhira Range|\n",
      "| tgzqke|Bangladesh|  Khulna|Satkhira|Shyamnagar|  Ramjan Nagar|\n",
      "| tgzqud|Bangladesh|  Khulna|Satkhira|Shyamnagar|  Ramjan Nagar|\n",
      "| tgzr0w|Bangladesh|  Khulna|Satkhira|  Kaliganj|      Ratanpur|\n",
      "| tgzr29|Bangladesh|  Khulna|Satkhira|  Kaliganj|     Dhalbaria|\n",
      "+-------+----------+--------+--------+----------+--------------+\n",
      "only showing top 5 rows\n",
      "\n"
     ]
    }
   ],
   "source": [
    "spark.sql(\n",
    "\"\"\"\n",
    "select * from POI\n",
    "\n",
    "\"\"\"\n",
    ").show(5)"
   ]
  },
  {
   "cell_type": "code",
   "execution_count": 81,
   "metadata": {},
   "outputs": [
    {
     "name": "stdout",
     "output_type": "stream",
     "text": [
      "+--------+\n",
      "|count(1)|\n",
      "+--------+\n",
      "|   22331|\n",
      "+--------+\n",
      "\n"
     ]
    }
   ],
   "source": [
    "spark.sql (\n",
    "\"\"\"\n",
    "select COUNT(*) FROM POI WHERE division='Dhaka'\n",
    "\n",
    "\"\"\"\n",
    ").show(5)"
   ]
  },
  {
   "cell_type": "code",
   "execution_count": 82,
   "metadata": {},
   "outputs": [
    {
     "name": "stdout",
     "output_type": "stream",
     "text": [
      "+-------+----------+--------+--------+----------+---------------+\n",
      "|geohash|   country|division|district|     thana|          union|\n",
      "+-------+----------+--------+--------+----------+---------------+\n",
      "| wh0nkr|Bangladesh|   Dhaka|   Dhaka| Nawabganj|       Galimpur|\n",
      "| wh0pxw|Bangladesh|   Dhaka|   Dhaka|     Savar|        Biralia|\n",
      "| wh0q9k|Bangladesh|   Dhaka|   Dhaka|Keraniganj|Subhadya (Part)|\n",
      "| wh207w|Bangladesh|   Dhaka|   Dhaka|     Savar|       Shimulia|\n",
      "| wh0nwh|Bangladesh|   Dhaka|   Dhaka|Keraniganj|       Ruhitpur|\n",
      "+-------+----------+--------+--------+----------+---------------+\n",
      "only showing top 5 rows\n",
      "\n"
     ]
    }
   ],
   "source": [
    "spark.sql (\n",
    "\"\"\"\n",
    "select * FROM POI WHERE division='Dhaka' and district ='Dhaka'\n",
    "\n",
    "\"\"\"\n",
    ").show(5)"
   ]
  },
  {
   "cell_type": "code",
   "execution_count": 83,
   "metadata": {},
   "outputs": [
    {
     "name": "stdout",
     "output_type": "stream",
     "text": [
      "+----------+-----+\n",
      "|  division|  geo|\n",
      "+----------+-----+\n",
      "|Chittagong|25365|\n",
      "|     Dhaka|22331|\n",
      "|  Rajshahi|19673|\n",
      "|    Khulna|18657|\n",
      "|   Rangpur|17616|\n",
      "+----------+-----+\n",
      "only showing top 5 rows\n",
      "\n"
     ]
    }
   ],
   "source": [
    "spark.sql (\n",
    "\n",
    "\"\"\"\n",
    "\n",
    "select division , COUNT(Distinct geohash) as geo \n",
    "\n",
    "from POI\n",
    "\n",
    "GROUP BY division\n",
    "\n",
    "ORDER BY COUNT(Distinct geohash) DESC \n",
    "\n",
    "LIMIT 100\n",
    "\"\"\"\n",
    "\n",
    "\n",
    ").show(5)"
   ]
  },
  {
   "cell_type": "code",
   "execution_count": 84,
   "metadata": {},
   "outputs": [
    {
     "name": "stdout",
     "output_type": "stream",
     "text": [
      "+------------------------+\n",
      "|count(DISTINCT division)|\n",
      "+------------------------+\n",
      "|                       1|\n",
      "+------------------------+\n",
      "\n"
     ]
    }
   ],
   "source": [
    "spark.sql (\n",
    "\n",
    "\"\"\"\n",
    "\n",
    "select COUNT(Distinct division) from POI\n",
    "\n",
    "\n",
    "Where division ='Dhaka'\n",
    "\n",
    "\n",
    "\n",
    "\"\"\"\n",
    "\n",
    "\n",
    "\"\").show(5)"
   ]
  },
  {
   "cell_type": "code",
   "execution_count": 85,
   "metadata": {},
   "outputs": [],
   "source": [
    "order=spark.read.csv(r\"C:\\Users\\MdMuntasirulHoque\\Downloads\\class_3_SQL_IN_SPARK (2)\\class_3\\ecom\\olist_orders_dataset.csv\",header=True,inferSchema=True)"
   ]
  },
  {
   "cell_type": "code",
   "execution_count": 86,
   "metadata": {},
   "outputs": [
    {
     "name": "stdout",
     "output_type": "stream",
     "text": [
      "+--------------------+--------------------+------------+------------------------+-------------------+----------------------------+-----------------------------+-----------------------------+\n",
      "|            order_id|         customer_id|order_status|order_purchase_timestamp|  order_approved_at|order_delivered_carrier_date|order_delivered_customer_date|order_estimated_delivery_date|\n",
      "+--------------------+--------------------+------------+------------------------+-------------------+----------------------------+-----------------------------+-----------------------------+\n",
      "|e481f51cbdc54678b...|9ef432eb625129730...|   delivered|     2017-10-02 10:56:33|2017-10-02 11:07:15|         2017-10-04 19:55:00|          2017-10-10 21:25:13|          2017-10-18 00:00:00|\n",
      "|53cdb2fc8bc7dce0b...|b0830fb4747a6c6d2...|   delivered|     2018-07-24 20:41:37|2018-07-26 03:24:27|         2018-07-26 14:31:00|          2018-08-07 15:27:45|          2018-08-13 00:00:00|\n",
      "|47770eb9100c2d0c4...|41ce2a54c0b03bf34...|   delivered|     2018-08-08 08:38:49|2018-08-08 08:55:23|         2018-08-08 13:50:00|          2018-08-17 18:06:29|          2018-09-04 00:00:00|\n",
      "|949d5b44dbf5de918...|f88197465ea7920ad...|   delivered|     2017-11-18 19:28:06|2017-11-18 19:45:59|         2017-11-22 13:39:59|          2017-12-02 00:28:42|          2017-12-15 00:00:00|\n",
      "|ad21c59c0840e6cb8...|8ab97904e6daea886...|   delivered|     2018-02-13 21:18:39|2018-02-13 22:20:29|         2018-02-14 19:46:34|          2018-02-16 18:17:02|          2018-02-26 00:00:00|\n",
      "|a4591c265e18cb1dc...|503740e9ca751ccdd...|   delivered|     2017-07-09 21:57:05|2017-07-09 22:10:13|         2017-07-11 14:58:04|          2017-07-26 10:57:55|          2017-08-01 00:00:00|\n",
      "|136cce7faa42fdb2c...|ed0271e0b7da060a3...|    invoiced|     2017-04-11 12:22:08|2017-04-13 13:25:17|                        NULL|                         NULL|          2017-05-09 00:00:00|\n",
      "|6514b8ad8028c9f2c...|9bdf08b4b3b52b552...|   delivered|     2017-05-16 13:10:30|2017-05-16 13:22:11|         2017-05-22 10:07:46|          2017-05-26 12:55:51|          2017-06-07 00:00:00|\n",
      "|76c6e866289321a7c...|f54a9f0e6b351c431...|   delivered|     2017-01-23 18:29:09|2017-01-25 02:50:47|         2017-01-26 14:16:31|          2017-02-02 14:08:10|          2017-03-06 00:00:00|\n",
      "|e69bfb5eb88e0ed6a...|31ad1d1b63eb99624...|   delivered|     2017-07-29 11:55:02|2017-07-29 12:05:32|         2017-08-10 19:45:24|          2017-08-16 17:14:30|          2017-08-23 00:00:00|\n",
      "|e6ce16cb79ec1d90b...|494dded5b201313c6...|   delivered|     2017-05-16 19:41:10|2017-05-16 19:50:18|         2017-05-18 11:40:40|          2017-05-29 11:18:31|          2017-06-07 00:00:00|\n",
      "|34513ce0c4fab462a...|7711cf624183d843a...|   delivered|     2017-07-13 19:58:11|2017-07-13 20:10:08|         2017-07-14 18:43:29|          2017-07-19 14:04:48|          2017-08-08 00:00:00|\n",
      "|82566a660a982b15f...|d3e3b74c766bc6214...|   delivered|     2018-06-07 10:06:19|2018-06-09 03:13:12|         2018-06-11 13:29:00|          2018-06-19 12:05:52|          2018-07-18 00:00:00|\n",
      "|5ff96c15d0b717ac6...|19402a48fe860416a...|   delivered|     2018-07-25 17:44:10|2018-07-25 17:55:14|         2018-07-26 13:16:00|          2018-07-30 15:52:25|          2018-08-08 00:00:00|\n",
      "|432aaf21d85167c2c...|3df704f53d3f1d481...|   delivered|     2018-03-01 14:14:28|2018-03-01 15:10:47|         2018-03-02 21:09:20|          2018-03-12 23:36:26|          2018-03-21 00:00:00|\n",
      "|dcb36b511fcac050b...|3b6828a50ffe54694...|   delivered|     2018-06-07 19:03:12|2018-06-12 23:31:02|         2018-06-11 14:54:00|          2018-06-21 15:34:32|          2018-07-04 00:00:00|\n",
      "|403b97836b0c04a62...|738b086814c6fcc74...|   delivered|     2018-01-02 19:00:43|2018-01-02 19:09:04|         2018-01-03 18:19:09|          2018-01-20 01:38:59|          2018-02-06 00:00:00|\n",
      "|116f0b09343b49556...|3187789bec9909876...|   delivered|     2017-12-26 23:41:31|2017-12-26 23:50:22|         2017-12-28 18:33:05|          2018-01-08 22:36:36|          2018-01-29 00:00:00|\n",
      "|85ce859fd6dc634de...|059f7fc5719c7da6c...|   delivered|     2017-11-21 00:03:41|2017-11-21 00:14:22|         2017-11-23 21:32:26|          2017-11-27 18:28:00|          2017-12-11 00:00:00|\n",
      "|83018ec114eee8641...|7f8c8b9c2ae27bf33...|   delivered|     2017-10-26 15:54:26|2017-10-26 16:08:14|         2017-10-26 21:46:53|          2017-11-08 22:22:00|          2017-11-23 00:00:00|\n",
      "+--------------------+--------------------+------------+------------------------+-------------------+----------------------------+-----------------------------+-----------------------------+\n",
      "only showing top 20 rows\n",
      "\n"
     ]
    }
   ],
   "source": [
    "order.show()"
   ]
  },
  {
   "cell_type": "code",
   "execution_count": 87,
   "metadata": {},
   "outputs": [],
   "source": [
    "review=spark.read.csv(r\"C:\\Users\\MdMuntasirulHoque\\Downloads\\class_3_SQL_IN_SPARK (2)\\class_3\\ecom\\olist_order_reviews_dataset.csv\",header=True,inferSchema=True)"
   ]
  },
  {
   "cell_type": "code",
   "execution_count": 88,
   "metadata": {},
   "outputs": [
    {
     "name": "stdout",
     "output_type": "stream",
     "text": [
      "+--------------------+--------------------+------------+--------------------+----------------------+--------------------+-----------------------+\n",
      "|           review_id|            order_id|review_score|review_comment_title|review_comment_message|review_creation_date|review_answer_timestamp|\n",
      "+--------------------+--------------------+------------+--------------------+----------------------+--------------------+-----------------------+\n",
      "|7bc2406110b926393...|73fc7af87114b3971...|           4|                NULL|                  NULL| 2018-01-18 00:00:00|    2018-01-18 21:46:59|\n",
      "|80e641a11e56f04c1...|a548910a1c6147796...|           5|                NULL|                  NULL| 2018-03-10 00:00:00|    2018-03-11 03:05:13|\n",
      "|228ce5500dc1d8e02...|f9e4b658b201a9f2e...|           5|                NULL|                  NULL| 2018-02-17 00:00:00|    2018-02-18 14:36:24|\n",
      "|e64fb393e7b32834b...|658677c97b385a9be...|           5|                NULL|  Recebi bem antes ...| 2017-04-21 00:00:00|    2017-04-21 22:02:06|\n",
      "|f7c4243c7fe1938f1...|8e6bfb81e283fa7e4...|           5|                NULL|  Parabéns lojas la...| 2018-03-01 00:00:00|    2018-03-02 10:26:53|\n",
      "|15197aa66ff4d0650...|b18dcdf73be663668...|           1|                NULL|                  NULL| 2018-04-13 00:00:00|    2018-04-16 00:39:37|\n",
      "|07f9bee5d1b850860...|e48aa0d2dcec3a2e8...|           5|                NULL|                  NULL| 2017-07-16 00:00:00|    2017-07-18 19:30:34|\n",
      "|7c6400515c67679fb...|c31a859e34e3adac2...|           5|                NULL|                  NULL| 2018-08-14 00:00:00|    2018-08-14 21:36:06|\n",
      "|a3f6f7f6f433de0ae...|9c214ac970e842735...|           5|                NULL|                  NULL| 2017-05-17 00:00:00|    2017-05-18 12:05:37|\n",
      "|8670d52e15e00043a...|b9bf720beb4ab3728...|           4|           recomendo|  aparelho eficient...| 2018-05-22 00:00:00|    2018-05-23 16:45:47|\n",
      "|c9cfd2d5ab5911836...|cdf9aa68e72324eeb...|           5|                NULL|                  NULL| 2017-12-23 00:00:00|    2017-12-26 14:36:03|\n",
      "|96052551d87e5f62e...|3d374c9e46530bb5e...|           5|                NULL|                  NULL| 2017-12-19 00:00:00|    2017-12-20 10:25:22|\n",
      "|4b49719c8a200003f...|9d6f15f95d01e79bd...|           4|                NULL|  Mas um pouco ,tra...|                NULL|                   NULL|\n",
      "|,2018-02-16 00:00...|                NULL|        NULL|                NULL|                  NULL|                NULL|                   NULL|\n",
      "|23f75a37effc35d9a...|2eaf8e099d871cd5c...|           4|                NULL|                  NULL| 2018-03-28 00:00:00|    2018-03-30 15:10:55|\n",
      "|9a0abbb668bafb95a...|d7bd0e4afdf94846e...|           3|                NULL|                  NULL| 2017-04-30 00:00:00|    2017-05-03 00:02:22|\n",
      "|3948b09f7c818e2d8...|e51478e7e277a8374...|           5|     Super recomendo|  Vendedor confiáve...| 2018-05-23 00:00:00|    2018-05-24 03:00:01|\n",
      "|9314d6f9799f5bfba...|0dacf04c5ad59fd5a...|           2|                NULL|  GOSTARIA DE SABER...| 2018-01-18 00:00:00|    2018-01-20 21:25:45|\n",
      "|8e15a274d95600fa1...|ff1581e08b3011021...|           5|                NULL|                  NULL| 2018-03-24 00:00:00|    2018-03-26 15:58:32|\n",
      "|fdbdb2629a7cde0f6...|70a752414a13d09cc...|           3|                NULL|                  NULL| 2017-09-29 00:00:00|    2017-10-02 01:12:49|\n",
      "+--------------------+--------------------+------------+--------------------+----------------------+--------------------+-----------------------+\n",
      "only showing top 20 rows\n",
      "\n"
     ]
    }
   ],
   "source": [
    "review.show()"
   ]
  },
  {
   "cell_type": "code",
   "execution_count": 89,
   "metadata": {},
   "outputs": [],
   "source": [
    "houseprice=spark.read.csv(r\"C:\\Users\\MdMuntasirulHoque\\Downloads\\class_3_SQL_IN_SPARK (2)\\class_3\\data\\house_prices.csv\", header=True ,inferSchema=True)"
   ]
  },
  {
   "cell_type": "code",
   "execution_count": 90,
   "metadata": {},
   "outputs": [],
   "source": [
    "houseprice.createOrReplaceTempView(\"house_prices\")\n",
    "order.createOrReplaceTempView(\"order\")\n",
    "review.createOrReplaceTempView(\"review\")\n"
   ]
  },
  {
   "cell_type": "code",
   "execution_count": 91,
   "metadata": {},
   "outputs": [
    {
     "name": "stdout",
     "output_type": "stream",
     "text": [
      "root\n",
      " |-- Index: integer (nullable = true)\n",
      " |-- Title: string (nullable = true)\n",
      " |-- Description: string (nullable = true)\n",
      " |-- Amount(in rupees): string (nullable = true)\n",
      " |-- Price (in rupees): string (nullable = true)\n",
      " |-- location: string (nullable = true)\n",
      " |-- Carpet Area: string (nullable = true)\n",
      " |-- Status: string (nullable = true)\n",
      " |-- Floor: string (nullable = true)\n",
      " |-- Transaction: string (nullable = true)\n",
      " |-- Furnishing: string (nullable = true)\n",
      " |-- facing: string (nullable = true)\n",
      " |-- overlooking: string (nullable = true)\n",
      " |-- Society: string (nullable = true)\n",
      " |-- Bathroom: string (nullable = true)\n",
      " |-- Balcony: string (nullable = true)\n",
      " |-- Car Parking: string (nullable = true)\n",
      " |-- Ownership: string (nullable = true)\n",
      " |-- Super Area: string (nullable = true)\n",
      " |-- Dimensions: string (nullable = true)\n",
      " |-- Plot Area: string (nullable = true)\n",
      "\n",
      "root\n",
      " |-- order_id: string (nullable = true)\n",
      " |-- customer_id: string (nullable = true)\n",
      " |-- order_status: string (nullable = true)\n",
      " |-- order_purchase_timestamp: timestamp (nullable = true)\n",
      " |-- order_approved_at: timestamp (nullable = true)\n",
      " |-- order_delivered_carrier_date: timestamp (nullable = true)\n",
      " |-- order_delivered_customer_date: timestamp (nullable = true)\n",
      " |-- order_estimated_delivery_date: timestamp (nullable = true)\n",
      "\n",
      "root\n",
      " |-- review_id: string (nullable = true)\n",
      " |-- order_id: string (nullable = true)\n",
      " |-- review_score: string (nullable = true)\n",
      " |-- review_comment_title: string (nullable = true)\n",
      " |-- review_comment_message: string (nullable = true)\n",
      " |-- review_creation_date: string (nullable = true)\n",
      " |-- review_answer_timestamp: string (nullable = true)\n",
      "\n"
     ]
    }
   ],
   "source": [
    "houseprice.printSchema()\n",
    "order.printSchema()\n",
    "review.printSchema()"
   ]
  },
  {
   "cell_type": "code",
   "execution_count": 92,
   "metadata": {},
   "outputs": [
    {
     "name": "stdout",
     "output_type": "stream",
     "text": [
      "+---------------------------------------------------------------------------------------------------------------------------------------------------------------------------------------------------------------------------------------------------------------------------------------------------------------------------------------------------------------------------------------------------------------------------------------------------------------------------------------------------------------------+\n",
      "|description                                                                                                                                                                                                                                                                                                                                                                                                                                                                                                          |\n",
      "+---------------------------------------------------------------------------------------------------------------------------------------------------------------------------------------------------------------------------------------------------------------------------------------------------------------------------------------------------------------------------------------------------------------------------------------------------------------------------------------------------------------------+\n",
      "|bhiwandi, thane has an attractive 1 bhk flat for sale. the property is ideally located in a strategic location in srushti siddhi mangal murti complex township. this flat for resale is a choice property. this apartment ready to move in the bhiwandi is available for an attractive price of inr 42 lac. you will find it unfurnished.                                                                                                                                                                            |\n",
      "|one can find this stunning 2 bhk flat for sale in pokhran road, thane. it enjoys an excellent location within the dosti vihar. this flat for resale is a choice property. this ready to move flat in pokhran road can be availed at a reasonable price of inr 98 lac. this semi-furnished flat is strategically designed with all the amenities to enhance the living experience. the property is strategically placed near prominent places as near singhaniya school which make for the smooth living of residents.|\n",
      "|up for immediate sale is a 2 bhk apartment in kolshet road, thane. don't miss this bargain flat for sale. situated in the sunrise by kalpataru township, it has a prime location. this flat for resale has a desirable location. you can buy this ready to move flat in kolshet road at a reasonable price of inr 1.40 cr. this unfurnished flat is strategically designed with all the amenities to enhance the living experience. landmarks near the apartment include pokhran road no 2.                          |\n",
      "|this beautiful 1 bhk flat is available for sale in kasheli, thane. this flat for resale has a desirable location. this ready to move flat is offered at an economical price of inr 25 lac. you will find it unfurnished.                                                                                                                                                                                                                                                                                             |\n",
      "|this lovely 2 bhk flat in pokhran road, thane is up for sale. this flat is situated in the tenx habitat raymond realty township and is equipped with premium facilities. this flat is an attractive property for resale. you can buy this ready to move flat in pokhran road at a reasonable price of inr 1.60 cr. you will find it unfurnished. some of the landmarks in the vicinity include pokhran road 2.                                                                                                       |\n",
      "+---------------------------------------------------------------------------------------------------------------------------------------------------------------------------------------------------------------------------------------------------------------------------------------------------------------------------------------------------------------------------------------------------------------------------------------------------------------------------------------------------------------------+\n",
      "only showing top 5 rows\n",
      "\n"
     ]
    }
   ],
   "source": [
    "spark.sql(\n",
    "\n",
    "\"\"\"\n",
    "select LOWER (Description) as description\n",
    "\n",
    "from house_prices \n",
    "\"\"\"\n",
    ").show(5,truncate=False)"
   ]
  },
  {
   "cell_type": "code",
   "execution_count": 93,
   "metadata": {},
   "outputs": [
    {
     "name": "stdout",
     "output_type": "stream",
     "text": [
      "+-----+-----------------------------------------------------------------------------------+---------------------------------------------------------------------------------------------------------------------------------------------------------------------------------------------------------------------------------------------------------------------------------------------------------------------------------------------------------------------------------------------------------------------------------------------------------------------------------------------------------------------+-----------------+-----------------+--------+-----------+-------------+------------+-----------+--------------+------+----------------------+-----------------------------------+--------+-------+-----------+--------------------+----------+----------+---------+\n",
      "|Index|Title                                                                              |Description                                                                                                                                                                                                                                                                                                                                                                                                                                                                                                          |Amount(in rupees)|Price (in rupees)|location|Carpet Area|Status       |Floor       |Transaction|Furnishing    |facing|overlooking           |Society                            |Bathroom|Balcony|Car Parking|Ownership           |Super Area|Dimensions|Plot Area|\n",
      "+-----+-----------------------------------------------------------------------------------+---------------------------------------------------------------------------------------------------------------------------------------------------------------------------------------------------------------------------------------------------------------------------------------------------------------------------------------------------------------------------------------------------------------------------------------------------------------------------------------------------------------------+-----------------+-----------------+--------+-----------+-------------+------------+-----------+--------------+------+----------------------+-----------------------------------+--------+-------+-----------+--------------------+----------+----------+---------+\n",
      "|0    |1 BHK Ready to Occupy Flat for sale in Srushti Siddhi Mangal Murti Complex Bhiwandi|Bhiwandi, Thane has an attractive 1 BHK Flat for sale. The property is ideally located in a strategic location in Srushti Siddhi Mangal Murti Complex township. This flat for resale is a choice property. This apartment ready to move in the Bhiwandi is available for an attractive price of INR 42 Lac. You will find it unfurnished.                                                                                                                                                                            |42 Lac           |6000             |thane   |500 sqft   |Ready to Move|10 out of 11|Resale     |Unfurnished   |NULL  |NULL                  |Srushti Siddhi Mangal Murti Complex|1       |2      |NULL       |NULL                |NULL      |NULL      |NULL     |\n",
      "|1    |2 BHK Ready to Occupy Flat for sale in Dosti Vihar Pokhran Road                    |One can find this stunning 2 BHK flat for sale in Pokhran Road, Thane. It enjoys an excellent location within the Dosti Vihar. This flat for resale is a choice property. This ready to move flat in Pokhran Road can be availed at a reasonable price of INR 98 Lac. This semi-furnished flat is strategically designed with all the amenities to enhance the living experience. The property is strategically placed near prominent places as near singhaniya school which make for the smooth living of residents.|98 Lac           |13799            |thane   |473 sqft   |Ready to Move|3 out of 22 |Resale     |Semi-Furnished|East  |Garden/Park           |Dosti Vihar                        |2       |NULL   |1 Open     |Freehold            |NULL      |NULL      |NULL     |\n",
      "|2    |2 BHK Ready to Occupy Flat for sale in Sunrise by Kalpataru Kolshet Road           |Up for immediate sale is a 2 BHK apartment in Kolshet Road, Thane. Don't miss this bargain flat for sale. Situated in the Sunrise By Kalpataru township, it has a prime location. This flat for resale has a desirable location. You can buy this ready to move flat in Kolshet Road at a reasonable price of INR 1.40 Cr. This unfurnished flat is strategically designed with all the amenities to enhance the living experience. Landmarks near the apartment include pokhran road no 2.                          |1.40 Cr          |17500            |thane   |779 sqft   |Ready to Move|10 out of 29|Resale     |Unfurnished   |East  |Garden/Park           |Sunrise by Kalpataru               |2       |NULL   |1 Covered  |Freehold            |NULL      |NULL      |NULL     |\n",
      "|3    |1 BHK Ready to Occupy Flat for sale Kasheli                                        |This beautiful 1 BHK Flat is available for sale in Kasheli, Thane. This flat for resale has a desirable location. This ready to move flat is offered at an economical price of INR 25 Lac. You will find it unfurnished.                                                                                                                                                                                                                                                                                             |25 Lac           |NULL             |thane   |530 sqft   |Ready to Move|1 out of 3  |Resale     |Unfurnished   |NULL  |NULL                  |NULL                               |1       |1      |NULL       |NULL                |NULL      |NULL      |NULL     |\n",
      "|4    |2 BHK Ready to Occupy Flat for sale in TenX Habitat Raymond Realty Pokhran Road    |This lovely 2 BHK Flat in Pokhran Road, Thane is up for sale. This flat is situated in the Tenx Habitat Raymond Realty township and is equipped with premium facilities. This flat is an attractive property for resale. You can buy this ready to move flat in Pokhran Road at a reasonable price of INR 1.60 Cr. You will find it unfurnished. Some of the landmarks in the vicinity include pokhran road 2.                                                                                                       |1.60 Cr          |18824            |thane   |635 sqft   |Ready to Move|20 out of 42|Resale     |Unfurnished   |West  |Garden/Park, Main Road|TenX Habitat Raymond Realty        |2       |NULL   |1 Covered  |Co-operative Society|NULL      |NULL      |NULL     |\n",
      "+-----+-----------------------------------------------------------------------------------+---------------------------------------------------------------------------------------------------------------------------------------------------------------------------------------------------------------------------------------------------------------------------------------------------------------------------------------------------------------------------------------------------------------------------------------------------------------------------------------------------------------------+-----------------+-----------------+--------+-----------+-------------+------------+-----------+--------------+------+----------------------+-----------------------------------+--------+-------+-----------+--------------------+----------+----------+---------+\n",
      "only showing top 5 rows\n",
      "\n"
     ]
    }
   ],
   "source": [
    "spark.sql (\n",
    "\n",
    "\"\"\"\n",
    "\n",
    "select * from house_prices \n",
    "\n",
    "\n",
    "\"\"\"\n",
    "\n",
    ").show(5,truncate=False)"
   ]
  },
  {
   "cell_type": "code",
   "execution_count": 94,
   "metadata": {},
   "outputs": [
    {
     "name": "stdout",
     "output_type": "stream",
     "text": [
      "+-----+-----------------------------------------------------------------------------------+-----------------------------------------------------------------------------------------------------------------------------------------------------------------------------------------------------------------------------------------------------------------------------------------------------------------------------------------------------------------------------------------------------------------------------------------------------------------------------------+-----------------+-----------------+--------+-----------+-------------+------------+-----------+--------------+------+----------------------+-----------------------------------+--------+-------+-----------+--------------------+----------+----------+---------+\n",
      "|Index|Title                                                                              |Description                                                                                                                                                                                                                                                                                                                                                                                                                                                                        |Amount(in rupees)|Price (in rupees)|location|Carpet Area|Status       |Floor       |Transaction|Furnishing    |facing|overlooking           |Society                            |Bathroom|Balcony|Car Parking|Ownership           |Super Area|Dimensions|Plot Area|\n",
      "+-----+-----------------------------------------------------------------------------------+-----------------------------------------------------------------------------------------------------------------------------------------------------------------------------------------------------------------------------------------------------------------------------------------------------------------------------------------------------------------------------------------------------------------------------------------------------------------------------------+-----------------+-----------------+--------+-----------+-------------+------------+-----------+--------------+------+----------------------+-----------------------------------+--------+-------+-----------+--------------------+----------+----------+---------+\n",
      "|0    |1 BHK Ready to Occupy Flat for sale in Srushti Siddhi Mangal Murti Complex Bhiwandi|Bhiwandi, Thane has an attractive 1 BHK Flat for sale. The property is ideally located in a strategic location in Srushti Siddhi Mangal Murti Complex township. This flat for resale is a choice property. This apartment ready to move in the Bhiwandi is available for an attractive price of INR 42 Lac. You will find it unfurnished.                                                                                                                                          |42 Lac           |6000             |thane   |500 sqft   |Ready to Move|10 out of 11|Resale     |Unfurnished   |NULL  |NULL                  |Srushti Siddhi Mangal Murti Complex|1       |2      |NULL       |NULL                |NULL      |NULL      |NULL     |\n",
      "|3    |1 BHK Ready to Occupy Flat for sale Kasheli                                        |This beautiful 1 BHK Flat is available for sale in Kasheli, Thane. This flat for resale has a desirable location. This ready to move flat is offered at an economical price of INR 25 Lac. You will find it unfurnished.                                                                                                                                                                                                                                                           |25 Lac           |NULL             |thane   |530 sqft   |Ready to Move|1 out of 3  |Resale     |Unfurnished   |NULL  |NULL                  |NULL                               |1       |1      |NULL       |NULL                |NULL      |NULL      |NULL     |\n",
      "|5    |1 BHK Ready to Occupy Flat for sale in Virat Aangan Titwala                        |Creatively planned and constructed is a 1 BHK flat for sale in Titwala, Thane. It is housed in the well-planned Virat Aangan township in an advantageous location. This flat is available as a resale property. You can buy this ready to move flat in Titwala at a reasonable price of INR 45 Lac. The flat is uniquely designed to enhance the living style. It is unfurnished, studded with all the basic facilities.                                                           |45 Lac           |6618             |thane   |NULL       |Ready to Move|2 out of 7  |Resale     |Unfurnished   |East  |Garden/Park, Main Road|Virat Aangan                       |1       |1      |NULL       |Co-operative Society|680 sqft  |NULL      |NULL     |\n",
      "|9    |3 BHK Ready to Occupy Flat for sale in Pride Palms Kolshet                         |One can find this stunning 3 BHK flat for sale in Kolshet, Thane. Ideally situated in the Pride Palms township it enjoys a prime location. This flat for resale is the perfect property for you! This ready to move flat located in Kolshet is available for purchase at a fair price of INR 1.60 Cr. The spacious apartment is unfurnished. This 3 BHK flat boasts of being in close proximity to significant landmarks like kalpataru that enhance the overall living experience.|1.60 Cr          |11150            |thane   |900 sqft   |Ready to Move|3 out of 27 |Resale     |Unfurnished   |East  |Garden/Park           |Pride Palms                        |3       |1      |1 Covered  |Freehold            |NULL      |NULL      |NULL     |\n",
      "|13   |4 BHK Ready to Occupy Flat for sale Hiranandani Estate                             |Creatively planned and constructed is a 4 BHK flat for sale in Hiranandani Estate, Thane. This flat is an attractive property for resale. This ready to move flat in Hiranandani Estate comes at an affordable price of INR 4.25 Cr. It is a semi-furnished apartment. The property is constructed with proximity to major landmarks like near hiranandani estate.                                                                                                                 |4.25 Cr          |17526            |thane   |1820 sqft  |Ready to Move|18 out of 27|Resale     |Semi-Furnished|East  |Garden/Park           |NULL                               |4       |1      |2 Covered  |Freehold            |NULL      |NULL      |NULL     |\n",
      "+-----+-----------------------------------------------------------------------------------+-----------------------------------------------------------------------------------------------------------------------------------------------------------------------------------------------------------------------------------------------------------------------------------------------------------------------------------------------------------------------------------------------------------------------------------------------------------------------------------+-----------------+-----------------+--------+-----------+-------------+------------+-----------+--------------+------+----------------------+-----------------------------------+--------+-------+-----------+--------------------+----------+----------+---------+\n",
      "only showing top 5 rows\n",
      "\n"
     ]
    }
   ],
   "source": [
    "spark.sql (\n",
    "\n",
    "\"\"\"\n",
    "\n",
    "select * from house_prices \n",
    "\n",
    "where Balcony IS NOT null\n",
    "\n",
    "\"\"\"\n",
    ").show(5,truncate=False)"
   ]
  },
  {
   "cell_type": "code",
   "execution_count": 95,
   "metadata": {},
   "outputs": [
    {
     "name": "stdout",
     "output_type": "stream",
     "text": [
      "+-----+-----------------------------------------------------------------------+-----------------------------------------------------------------------------------------------------------------------------------------------------------------------------------------------------------------------------------------------------------------------------------------------------------------------------------------------------------------------------------------------------------------------------------------------------------------------------------+-----------------+-----------------+--------+-----------+-------------+------------+------------+--------------+------------+----------------------+------------------+--------+-------+-----------+--------------------+----------+----------+---------+\n",
      "|Index|Title                                                                  |Description                                                                                                                                                                                                                                                                                                                                                                                                                                                                        |Amount(in rupees)|Price (in rupees)|location|Carpet Area|Status       |Floor       |Transaction |Furnishing    |facing      |overlooking           |Society           |Bathroom|Balcony|Car Parking|Ownership           |Super Area|Dimensions|Plot Area|\n",
      "+-----+-----------------------------------------------------------------------+-----------------------------------------------------------------------------------------------------------------------------------------------------------------------------------------------------------------------------------------------------------------------------------------------------------------------------------------------------------------------------------------------------------------------------------------------------------------------------------+-----------------+-----------------+--------+-----------+-------------+------------+------------+--------------+------------+----------------------+------------------+--------+-------+-----------+--------------------+----------+----------+---------+\n",
      "|3    |1 BHK Ready to Occupy Flat for sale Kasheli                            |This beautiful 1 BHK Flat is available for sale in Kasheli, Thane. This flat for resale has a desirable location. This ready to move flat is offered at an economical price of INR 25 Lac. You will find it unfurnished.                                                                                                                                                                                                                                                           |25 Lac           |NULL             |thane   |530 sqft   |Ready to Move|1 out of 3  |Resale      |Unfurnished   |NULL        |NULL                  |NULL              |1       |1      |NULL       |NULL                |NULL      |NULL      |NULL     |\n",
      "|5    |1 BHK Ready to Occupy Flat for sale in Virat Aangan Titwala            |Creatively planned and constructed is a 1 BHK flat for sale in Titwala, Thane. It is housed in the well-planned Virat Aangan township in an advantageous location. This flat is available as a resale property. You can buy this ready to move flat in Titwala at a reasonable price of INR 45 Lac. The flat is uniquely designed to enhance the living style. It is unfurnished, studded with all the basic facilities.                                                           |45 Lac           |6618             |thane   |NULL       |Ready to Move|2 out of 7  |Resale      |Unfurnished   |East        |Garden/Park, Main Road|Virat Aangan      |1       |1      |NULL       |Co-operative Society|680 sqft  |NULL      |NULL     |\n",
      "|9    |3 BHK Ready to Occupy Flat for sale in Pride Palms Kolshet             |One can find this stunning 3 BHK flat for sale in Kolshet, Thane. Ideally situated in the Pride Palms township it enjoys a prime location. This flat for resale is the perfect property for you! This ready to move flat located in Kolshet is available for purchase at a fair price of INR 1.60 Cr. The spacious apartment is unfurnished. This 3 BHK flat boasts of being in close proximity to significant landmarks like kalpataru that enhance the overall living experience.|1.60 Cr          |11150            |thane   |900 sqft   |Ready to Move|3 out of 27 |Resale      |Unfurnished   |East        |Garden/Park           |Pride Palms       |3       |1      |1 Covered  |Freehold            |NULL      |NULL      |NULL     |\n",
      "|13   |4 BHK Ready to Occupy Flat for sale Hiranandani Estate                 |Creatively planned and constructed is a 4 BHK flat for sale in Hiranandani Estate, Thane. This flat is an attractive property for resale. This ready to move flat in Hiranandani Estate comes at an affordable price of INR 4.25 Cr. It is a semi-furnished apartment. The property is constructed with proximity to major landmarks like near hiranandani estate.                                                                                                                 |4.25 Cr          |17526            |thane   |1820 sqft  |Ready to Move|18 out of 27|Resale      |Semi-Furnished|East        |Garden/Park           |NULL              |4       |1      |2 Covered  |Freehold            |NULL      |NULL      |NULL     |\n",
      "|15   |2 BHK Ready to Occupy Flat for sale in Puraniks Tokyo Bay Kasarvadavali|Kasarvadavali, Thane has an appealing 2 BHK flat for sale with various amenities. It is housed in the well-planned Puraniks Tokyo Bay township in an advantageous location. This is a desirable apartment for sale. This apartment in one of the significant areas of Kasarvadavali is ready to move, and can be purchased at the best price of INR 90 Lac. The spacious apartment is unfurnished. Some of the landmarks in the vicinity include its near to d mart kavesar.       |90 Lac           |10000            |thane   |675 sqft   |Ready to Move|10 out of 16|New Property|Unfurnished   |North - East|Garden/Park, Main Road|Puraniks Tokyo Bay|2       |1      |1 Covered  |Freehold            |NULL      |NULL      |NULL     |\n",
      "+-----+-----------------------------------------------------------------------+-----------------------------------------------------------------------------------------------------------------------------------------------------------------------------------------------------------------------------------------------------------------------------------------------------------------------------------------------------------------------------------------------------------------------------------------------------------------------------------+-----------------+-----------------+--------+-----------+-------------+------------+------------+--------------+------------+----------------------+------------------+--------+-------+-----------+--------------------+----------+----------+---------+\n",
      "only showing top 5 rows\n",
      "\n"
     ]
    }
   ],
   "source": [
    "spark.sql (\n",
    "\n",
    "\"\"\"\n",
    "\n",
    "select * from house_prices \n",
    "\n",
    "where Balcony != '2' \n",
    "\n",
    "\"\"\"\n",
    ").show(5,truncate=False)"
   ]
  },
  {
   "cell_type": "code",
   "execution_count": 96,
   "metadata": {},
   "outputs": [
    {
     "name": "stdout",
     "output_type": "stream",
     "text": [
      "+-----+--------------------+--------------------+-----------------+-----------------+--------+-----------+-------------+------------+-----------+--------------+------------+-----------+--------------------+--------+-------+-----------+--------------------+----------+----------+---------+\n",
      "|Index|               Title|         Description|Amount(in rupees)|Price (in rupees)|location|Carpet Area|       Status|       Floor|Transaction|    Furnishing|      facing|overlooking|             Society|Bathroom|Balcony|Car Parking|           Ownership|Super Area|Dimensions|Plot Area|\n",
      "+-----+--------------------+--------------------+-----------------+-----------------+--------+-----------+-------------+------------+-----------+--------------+------------+-----------+--------------------+--------+-------+-----------+--------------------+----------+----------+---------+\n",
      "|   28|3 BHK Ready to Oc...|3 BHK flat availa...|         1.75 Cr |            14344|   thane|   925 sqft|Ready to Move| 8 out of 20|     Resale|     Furnished|        East|Garden/Park|Palacia Kingston ...|       3|      3|  1 Covered|            Freehold|      NULL|      NULL|     NULL|\n",
      "|   34|1 BHK Ready to Oc...|One can find this...|          54 Lac |             9643|   thane|   440 sqft|Ready to Move|  2 out of 7|     Resale|     Furnished|        East|Garden/Park|         JVM Shubham|       2|      3|       NULL|            Freehold|      NULL|      NULL|     NULL|\n",
      "|   35|1 BHK Ready to Oc...|Badlapur, Thane h...|          26 Lac |             3768|   thane|       NULL|Ready to Move|  5 out of 7|     Resale|Semi-Furnished|        NULL|       NULL|                NULL|       1|      3|       NULL|                NULL|  690 sqft|      NULL|     NULL|\n",
      "|   39|2 BHK Ready to Oc...|This gorgeous 2 B...|          35 Lac |             4070|   thane|   600 sqft|Ready to Move|  2 out of 7|     Resale|   Unfurnished|        NULL|       NULL|        Arihant Aksh|       2|      3|       NULL|                NULL|      NULL|      NULL|     NULL|\n",
      "|   54|2 BHK Ready to Oc...|2 BHK flat availa...|            1 Cr |            11905|   thane|   636 sqft|Ready to Move|10 out of 10|     Resale|   Unfurnished|North - East|  Main Road|                NULL|       2|      3|       NULL|Co-operative Society|      NULL|      NULL|     NULL|\n",
      "+-----+--------------------+--------------------+-----------------+-----------------+--------+-----------+-------------+------------+-----------+--------------+------------+-----------+--------------------+--------+-------+-----------+--------------------+----------+----------+---------+\n",
      "only showing top 5 rows\n",
      "\n"
     ]
    }
   ],
   "source": [
    "spark.sql(\n",
    "\n",
    "\"\"\"\n",
    "\n",
    "select * from house_prices\n",
    "\n",
    "\n",
    "WHERE Balcony != '2' AND  Balcony !='1'\n",
    "\n",
    "\n",
    "\"\"\"\n",
    "\n",
    ").show(5)"
   ]
  },
  {
   "cell_type": "code",
   "execution_count": 98,
   "metadata": {},
   "outputs": [
    {
     "name": "stdout",
     "output_type": "stream",
     "text": [
      "+------+-----------+-----------------+-----------------+--------+-----------+\n",
      "| Title|Description|Amount(in rupees)|Price (in rupees)|location|Carpet Area|\n",
      "+------+-----------+-----------------+-----------------+--------+-----------+\n",
      "|187531|     184508|           187531|           169867|  187531|     106861|\n",
      "+------+-----------+-----------------+-----------------+--------+-----------+\n",
      "\n"
     ]
    }
   ],
   "source": [
    "# Define the condition for checking non-null values\n",
    "condition = \"IS NOT NULL\"\n",
    "\n",
    "# Execute the SQL query using PySpark\n",
    "spark.sql(\n",
    "    f\"\"\"\n",
    "    SELECT \n",
    "        -- Count the number of non-null values in the 'Title' column\n",
    "        SUM(CASE WHEN Title {condition} THEN 1 ELSE 0 END) AS Title,\n",
    "\n",
    "        -- Count the number of non-null values in the 'Description' column\n",
    "        SUM(CASE WHEN Description {condition} THEN 1 ELSE 0 END) AS Description,\n",
    "\n",
    "        -- Count the number of non-null values in the 'Amount(in rupees)' column\n",
    "        SUM(CASE WHEN `Amount(in rupees)` {condition} THEN 1 ELSE 0 END) AS `Amount(in rupees)`,\n",
    "\n",
    "        -- Count the number of non-null values in the 'Price (in rupees)' column\n",
    "        SUM(CASE WHEN `Price (in rupees)` {condition} THEN 1 ELSE 0 END) AS `Price (in rupees)`,\n",
    "\n",
    "        -- Count the number of non-null values in the 'location' column\n",
    "        SUM(CASE WHEN location {condition} THEN 1 ELSE 0 END) AS location,\n",
    "\n",
    "        -- Count the number of non-null values in the 'Carpet Area' column\n",
    "        SUM(CASE WHEN `Carpet Area` {condition} THEN 1 ELSE 0 END) AS `Carpet Area`\n",
    "    \n",
    "    FROM house_prices -- Querying data from the 'house_prices' table\n",
    "    \"\"\"\n",
    ").show()  # Display the result in tabular format\n"
   ]
  },
  {
   "cell_type": "code",
   "execution_count": 99,
   "metadata": {},
   "outputs": [
    {
     "name": "stdout",
     "output_type": "stream",
     "text": [
      "root\n",
      " |-- Index: integer (nullable = true)\n",
      " |-- Title: string (nullable = true)\n",
      " |-- Description: string (nullable = true)\n",
      " |-- Amount(in rupees): string (nullable = true)\n",
      " |-- Price (in rupees): string (nullable = true)\n",
      " |-- location: string (nullable = true)\n",
      " |-- Carpet Area: string (nullable = true)\n",
      " |-- Status: string (nullable = true)\n",
      " |-- Floor: string (nullable = true)\n",
      " |-- Transaction: string (nullable = true)\n",
      " |-- Furnishing: string (nullable = true)\n",
      " |-- facing: string (nullable = true)\n",
      " |-- overlooking: string (nullable = true)\n",
      " |-- Society: string (nullable = true)\n",
      " |-- Bathroom: string (nullable = true)\n",
      " |-- Balcony: string (nullable = true)\n",
      " |-- Car Parking: string (nullable = true)\n",
      " |-- Ownership: string (nullable = true)\n",
      " |-- Super Area: string (nullable = true)\n",
      " |-- Dimensions: string (nullable = true)\n",
      " |-- Plot Area: string (nullable = true)\n",
      "\n"
     ]
    }
   ],
   "source": [
    "houseprice.printSchema()"
   ]
  },
  {
   "cell_type": "code",
   "execution_count": null,
   "metadata": {},
   "outputs": [],
   "source": [
    "#Define Checking NULL \n",
    "condition=\"IS NULL\"\n",
    "\n",
    "# Execute the SQL query using PySpark\n",
    "\n",
    "\n",
    "spark.sql (\n",
    "\n",
    "f\"\"\"\n",
    "\n",
    "SELECT  \n",
    "\n",
    "    SUM(CASE WHEN Title\n",
    "\n",
    "\n",
    "\n",
    "\n",
    "\n",
    "\n",
    "\"\"\"\n",
    "\n",
    "\n",
    "\n",
    "\n",
    "\n",
    "\n",
    "\n",
    "\n",
    ")"
   ]
  }
 ],
 "metadata": {
  "kernelspec": {
   "display_name": "Python 3",
   "language": "python",
   "name": "python3"
  },
  "language_info": {
   "codemirror_mode": {
    "name": "ipython",
    "version": 3
   },
   "file_extension": ".py",
   "mimetype": "text/x-python",
   "name": "python",
   "nbconvert_exporter": "python",
   "pygments_lexer": "ipython3",
   "version": "3.13.1"
  }
 },
 "nbformat": 4,
 "nbformat_minor": 2
}
